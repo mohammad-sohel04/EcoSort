{
 "cells": [
  {
   "cell_type": "code",
   "execution_count": 1,
   "metadata": {},
   "outputs": [],
   "source": [
    "import torch\n",
    "import os\n",
    "from yolov5 import train, val, detect, export\n",
    "import subprocess\n",
    "import yaml"
   ]
  },
  {
   "cell_type": "code",
   "execution_count": 2,
   "metadata": {},
   "outputs": [
    {
     "name": "stdout",
     "output_type": "stream",
     "text": [
      "CUDA available:  True\n"
     ]
    }
   ],
   "source": [
    "# Check if CUDA is available\n",
    "print(\"CUDA available: \", torch.cuda.is_available())"
   ]
  },
  {
   "cell_type": "code",
   "execution_count": 3,
   "metadata": {},
   "outputs": [],
   "source": [
    "# 2. Data Preparation\n",
    "# Define the paths\n",
    "dataset_path = 'C:/Users/VIRAT/Projects/industrial-conclave/EcoSort/datasets'\n",
    "train_images = 'datasets/train/images'\n",
    "train_labels = 'datasets/train/labels'\n",
    "val_images = 'datasets/valid/images'\n",
    "val_labels = 'datasets/valid/labels'\n",
    "test_images = 'datasets/test/images'\n",
    "test_labels = 'datasets/test/labels'"
   ]
  },
  {
   "cell_type": "code",
   "execution_count": 4,
   "metadata": {},
   "outputs": [],
   "source": [
    "# Create a configuration file\n",
    "data_yaml = \"\"\"\n",
    "train: c:/Users/VIRAT/Projects/industrial-conclave/EcoSort/datasets/train/images\n",
    "val: c:/Users/VIRAT/Projects/industrial-conclave/EcoSort/datasets/valid/images\n",
    "test: c:/Users/VIRAT/Projects/industrial-conclave/EcoSort/datasets/test/images\n",
    "\n",
    "nc: 6\n",
    "names:\n",
    "- BIODEGRADABLE\n",
    "- CARDBOARD\n",
    "- GLASS\n",
    "- METAL\n",
    "- PAPER\n",
    "- PLASTIC\n",
    "\"\"\"\n",
    "# Save the configuration file\n",
    "data_yaml_path = os.path.join(dataset_path, 'data.yaml')\n",
    "with open(data_yaml_path, 'w') as file:\n",
    "    file.write(data_yaml)"
   ]
  },
  {
   "cell_type": "code",
   "execution_count": 5,
   "metadata": {},
   "outputs": [
    {
     "data": {
      "text/plain": [
       "CompletedProcess(args=['nvidia-smi'], returncode=0)"
      ]
     },
     "execution_count": 5,
     "metadata": {},
     "output_type": "execute_result"
    }
   ],
   "source": [
    "subprocess.run(['nvidia-smi'])"
   ]
  },
  {
   "cell_type": "code",
   "execution_count": 6,
   "metadata": {},
   "outputs": [],
   "source": [
    "import yaml\n",
    "from tqdm import tqdm\n"
   ]
  },
  {
   "cell_type": "code",
   "execution_count": 5,
   "metadata": {},
   "outputs": [
    {
     "name": "stdout",
     "output_type": "stream",
     "text": [
      "Current working directory: C:\\Users\\VIRAT\\Projects\\industrial-conclave\\EcoSort\\yolov5\n",
      "Contents of data.yaml:\n",
      "\n",
      "train: c:/Users/VIRAT/Projects/industrial-conclave/EcoSort/datasets/train/images\n",
      "val: c:/Users/VIRAT/Projects/industrial-conclave/EcoSort/datasets/valid/images\n",
      "test: c:/Users/VIRAT/Projects/industrial-conclave/EcoSort/datasets/test/images\n",
      "\n",
      "nc: 6\n",
      "names:\n",
      "- BIODEGRADABLE\n",
      "- CARDBOARD\n",
      "- GLASS\n",
      "- METAL\n",
      "- PAPER\n",
      "- PLASTIC\n",
      "\n",
      "Starting training...\n",
      "Running command: python train.py --img 640 --batch 16 --epochs 100 --data C:/Users/VIRAT/Projects/industrial-conclave/EcoSort/datasets\\data.yaml --weights yolov5s.pt\n",
      "Output:\n"
     ]
    },
    {
     "ename": "AttributeError",
     "evalue": "'NoneType' object has no attribute 'stdout'",
     "output_type": "error",
     "traceback": [
      "\u001b[1;31m---------------------------------------------------------------------------\u001b[0m",
      "\u001b[1;31mAttributeError\u001b[0m                            Traceback (most recent call last)",
      "Cell \u001b[1;32mIn[5], line 40\u001b[0m\n\u001b[0;32m     38\u001b[0m \u001b[38;5;66;03m# Print the output\u001b[39;00m\n\u001b[0;32m     39\u001b[0m \u001b[38;5;28mprint\u001b[39m(\u001b[38;5;124m\"\u001b[39m\u001b[38;5;124mOutput:\u001b[39m\u001b[38;5;124m\"\u001b[39m)\n\u001b[1;32m---> 40\u001b[0m display(HTML(\u001b[38;5;124mf\u001b[39m\u001b[38;5;124m\"\u001b[39m\u001b[38;5;124m<pre>\u001b[39m\u001b[38;5;132;01m{\u001b[39;00m\u001b[43mresult\u001b[49m\u001b[38;5;241;43m.\u001b[39;49m\u001b[43mstdout\u001b[49m\u001b[38;5;132;01m}\u001b[39;00m\u001b[38;5;124m</pre>\u001b[39m\u001b[38;5;124m\"\u001b[39m))\n\u001b[0;32m     42\u001b[0m \u001b[38;5;28;01mif\u001b[39;00m result\u001b[38;5;241m.\u001b[39merror_in_exec:\n\u001b[0;32m     43\u001b[0m     \u001b[38;5;28mprint\u001b[39m(\u001b[38;5;124m\"\u001b[39m\u001b[38;5;124mError occurred during execution:\u001b[39m\u001b[38;5;124m\"\u001b[39m)\n",
      "\u001b[1;31mAttributeError\u001b[0m: 'NoneType' object has no attribute 'stdout'"
     ]
    }
   ],
   "source": [
    "import os\n",
    "import sys\n",
    "from IPython.display import display, HTML\n",
    "from IPython import get_ipython\n",
    "\n",
    "# Ensure you are in the yolov5 directory\n",
    "os.chdir('C:\\\\Users\\\\VIRAT\\\\Projects\\\\industrial-conclave\\\\EcoSort\\\\yolov5')\n",
    "\n",
    "# Print current working directory\n",
    "print(f\"Current working directory: {os.getcwd()}\")\n",
    "\n",
    "# Define the paths and variables\n",
    "dataset_path = 'C:/Users/VIRAT/Projects/industrial-conclave/EcoSort/datasets'\n",
    "data_yaml_path = os.path.join(dataset_path, 'data.yaml')\n",
    "train_script = 'train.py'\n",
    "\n",
    "# Verify data.yaml file exists\n",
    "if not os.path.exists(data_yaml_path):\n",
    "    print(f\"ERROR: data.yaml file not found at {data_yaml_path}\")\n",
    "    sys.exit(1)\n",
    "\n",
    "# Print contents of data.yaml\n",
    "print(\"Contents of data.yaml:\")\n",
    "with open(data_yaml_path, 'r') as f:\n",
    "    print(f.read())\n",
    "\n",
    "# Construct the training command\n",
    "train_command = f'python {train_script} --img 640 --batch 16 --epochs 100 --data {data_yaml_path} --weights yolov5s.pt'\n",
    "\n",
    "# Run the training command\n",
    "print(\"Starting training...\")\n",
    "print(f\"Running command: {train_command}\")\n",
    "\n",
    "# Use IPython's built-in shell commands\n",
    "ipython = get_ipython()\n",
    "result = ipython.run_cell_magic('capture', '', f'!{train_command}')\n",
    "\n",
    "# Print the output\n",
    "print(\"Output:\")\n",
    "display(HTML(f\"<pre>{result.stdout}</pre>\"))\n",
    "\n",
    "if result.error_in_exec:\n",
    "    print(\"Error occurred during execution:\")\n",
    "    display(HTML(f\"<pre>{result.error_in_exec}</pre>\"))\n",
    "    print(\"Training failed.\")\n",
    "else:\n",
    "    print(\"Training completed successfully\")"
   ]
  }
 ],
 "metadata": {
  "kernelspec": {
   "display_name": "yolov5-env",
   "language": "python",
   "name": "python3"
  },
  "language_info": {
   "codemirror_mode": {
    "name": "ipython",
    "version": 3
   },
   "file_extension": ".py",
   "mimetype": "text/x-python",
   "name": "python",
   "nbconvert_exporter": "python",
   "pygments_lexer": "ipython3",
   "version": "3.10.9"
  }
 },
 "nbformat": 4,
 "nbformat_minor": 2
}
